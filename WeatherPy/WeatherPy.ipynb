{
 "cells": [
  {
   "cell_type": "markdown",
   "metadata": {},
   "source": [
    "# WeatherPy\n",
    "----"
   ]
  },
  {
   "cell_type": "code",
   "execution_count": null,
   "metadata": {
    "scrolled": true
   },
   "outputs": [],
   "source": [
    "# Dependencies and Setup\n",
    "import matplotlib.pyplot as plt\n",
    "import pandas as pd\n",
    "import numpy as np\n",
    "import requests\n",
    "import time\n",
    "import string\n",
    "import os\n",
    "\n",
    "# Import API key\n",
    "from api_keys import weather_api_key\n",
    "\n",
    "# Incorporated citipy to determine city based on latitude and longitude\n",
    "from citipy import citipy\n",
    "\n",
    "# Import custom plotting function\n",
    "from plotter import scatter_linregress\n",
    "\n",
    "# Outputs\n",
    "output_data_folder = 'output_data'\n",
    "output_data_file = os.path.join(output_data_folder, 'cities.csv')\n",
    "\n",
    "# Range of latitudes and longitudes\n",
    "lat_range = (-90, 90)\n",
    "lng_range = (-180, 180)\n",
    "\n",
    "# Figure size for scatter plots\n",
    "figsize=(15, 5)"
   ]
  },
  {
   "cell_type": "markdown",
   "metadata": {},
   "source": [
    "## Generate Cities List"
   ]
  },
  {
   "cell_type": "code",
   "execution_count": null,
   "metadata": {},
   "outputs": [],
   "source": [
    "# List for holding lat_lngs and cities\n",
    "lat_lngs = []\n",
    "cities = []\n",
    "\n",
    "# Create a set of random lat and lng combinations\n",
    "lats = np.random.uniform(lat_range[0], lat_range[1], size=1500)\n",
    "lngs = np.random.uniform(lng_range[0], lng_range[1], size=1500)\n",
    "lat_lngs = zip(lats, lngs)\n",
    "\n",
    "# Identify nearest city for each lat, lng combination\n",
    "for lat_lng in lat_lngs:\n",
    "    city = citipy.nearest_city(lat_lng[0], lat_lng[1]).city_name\n",
    "    \n",
    "    # If the city is unique, then add it to a our cities list\n",
    "    if city not in cities:\n",
    "        cities.append(city)\n",
    "\n",
    "# Print the city count to confirm sufficient count\n",
    "num_of_cities = len(cities)\n",
    "print(num_of_cities)"
   ]
  },
  {
   "cell_type": "markdown",
   "metadata": {},
   "source": [
    "### Perform API Calls\n",
    "* Perform a weather check on each city using a series of successive API calls.\n",
    "* Include a print log of each city as it's being processed (with the city number and city name)."
   ]
  },
  {
   "cell_type": "code",
   "execution_count": null,
   "metadata": {},
   "outputs": [],
   "source": [
    "# Openweathermap api url\n",
    "url = \"http://api.openweathermap.org/data/2.5/weather\"\n",
    "units = 'imperial'\n",
    "params = {'units': units,\n",
    "          'appid': weather_api_key}\n",
    "\n",
    "print(\"\"\"Beginning Data Retrieval\n",
    "-----------------------------\"\"\")\n",
    "d = []\n",
    "for idx, city in enumerate(cities, 1):\n",
    "    # 60 calls/min = 1 call per second\n",
    "    time.sleep(1)\n",
    "    \n",
    "    # set city param\n",
    "    params['q'] = city\n",
    "    print(f\"Processing Record {idx} of {num_of_cities} | {string.capwords(city)}\")\n",
    "    response = requests.get(url=url, params=params)\n",
    "    data = response.json()\n",
    "    # check if city not found\n",
    "    if data['cod'] == '404':\n",
    "        print(f\"{string.capwords(city)} not found. Skipping...\")\n",
    "        continue\n",
    "    \n",
    "    # create new dict entry\n",
    "    d.append(\n",
    "        {\n",
    "            'City': data['name'],\n",
    "            'Lat': data['coord']['lat'],\n",
    "            'Lng': data['coord']['lon'],\n",
    "            'Max_Temp': data['main']['temp_max'],\n",
    "            'Humidity': data['main']['humidity'],\n",
    "            'Cloudiness': data['clouds']['all'],\n",
    "            'Wind_Speed': data['wind']['speed'],\n",
    "            'Country': data['sys']['country'],\n",
    "            'Date': pd.to_datetime(data['dt'], unit='s')\n",
    "        }\n",
    "    )\n",
    "\n",
    "print(\"\"\"-----------------------------\n",
    "Data Retrieval Complete\n",
    "-----------------------------\"\"\")"
   ]
  },
  {
   "cell_type": "markdown",
   "metadata": {},
   "source": [
    "### If API Calls Was Run, Run This Cell"
   ]
  },
  {
   "cell_type": "code",
   "execution_count": null,
   "metadata": {},
   "outputs": [],
   "source": [
    "weather_df = pd.DataFrame(d)\n",
    "weather_df.to_csv(output_data_file, index=False)\n",
    "weather_df.head()"
   ]
  },
  {
   "cell_type": "markdown",
   "metadata": {},
   "source": [
    "### If Accessing Saved Data, Run This Cell"
   ]
  },
  {
   "cell_type": "code",
   "execution_count": null,
   "metadata": {},
   "outputs": [],
   "source": [
    "weather_df = pd.read_csv(output_data_file)\n",
    "weather_df.head()"
   ]
  },
  {
   "cell_type": "markdown",
   "metadata": {},
   "source": [
    "## Inspect the data and remove the cities where the humidity > 100%.\n",
    "----\n",
    "Skip this step if there are no cities that have humidity > 100%. "
   ]
  },
  {
   "cell_type": "code",
   "execution_count": null,
   "metadata": {},
   "outputs": [],
   "source": [
    "# Get initial data length\n",
    "data_len = len(weather_df)\n",
    "weather_df = weather_df.drop(weather_df[weather_df.Humidity > 100].index)\n",
    "print(f\"Removed {data_len - len(weather_df)} cities with Humidity values greater than 100%\")"
   ]
  },
  {
   "cell_type": "code",
   "execution_count": null,
   "metadata": {},
   "outputs": [],
   "source": [
    "# Write cleaned csv to file\n",
    "weather_df.to_csv(output_data_file, index=False)"
   ]
  },
  {
   "cell_type": "code",
   "execution_count": null,
   "metadata": {},
   "outputs": [],
   "source": [
    "# Set date as \n",
    "weather_df['Date'] = pd.to_datetime(weather_df['Date'])"
   ]
  },
  {
   "cell_type": "markdown",
   "metadata": {},
   "source": [
    "## Plotting the Data\n",
    "* Use proper labeling of the plots using plot titles (including date of analysis) and axes labels.\n",
    "* Save the plotted figures as .pngs."
   ]
  },
  {
   "cell_type": "markdown",
   "metadata": {},
   "source": [
    "## Latitude vs. Temperature Plot"
   ]
  },
  {
   "cell_type": "code",
   "execution_count": null,
   "metadata": {
    "scrolled": true
   },
   "outputs": [],
   "source": [
    "fig, axes = plt.subplots(1, 1, figsize=figsize)\n",
    "\n",
    "title = \"Lat Vs Temp\" + f\" ({weather_df['Date'].dt.date[0]})\"\n",
    "scatter_linregress(axes, weather_df['Lat'], weather_df['Max_Temp'], title, regress=False)\n",
    "\n",
    "plt.savefig(os.path.join(output_data_folder, title))\n",
    "\n",
    "plt.show()"
   ]
  },
  {
   "cell_type": "markdown",
   "metadata": {},
   "source": [
    "## Latitude vs. Humidity Plot"
   ]
  },
  {
   "cell_type": "code",
   "execution_count": null,
   "metadata": {},
   "outputs": [],
   "source": [
    "fig, axes = plt.subplots(1, 1, figsize=figsize)\n",
    "\n",
    "title = \"Lat Vs Humidity\" + f\" ({weather_df['Date'].dt.date[0]})\"\n",
    "scatter_linregress(axes, weather_df['Lat'], weather_df['Humidity'], title, regress=False)\n",
    "\n",
    "plt.savefig(os.path.join(output_data_folder, title))\n",
    "\n",
    "plt.show()"
   ]
  },
  {
   "cell_type": "markdown",
   "metadata": {},
   "source": [
    "## Latitude vs. Cloudiness Plot"
   ]
  },
  {
   "cell_type": "code",
   "execution_count": null,
   "metadata": {},
   "outputs": [],
   "source": [
    "fig, axes = plt.subplots(1, 1, figsize=figsize)\n",
    "\n",
    "title = \"Lat Vs Cloudiness\" + f\" ({weather_df['Date'].dt.date[0]})\"\n",
    "scatter_linregress(axes, weather_df['Lat'], weather_df['Cloudiness'], title, regress=False)\n",
    "\n",
    "plt.savefig(os.path.join(output_data_folder, title))\n",
    "\n",
    "plt.show()"
   ]
  },
  {
   "cell_type": "markdown",
   "metadata": {},
   "source": [
    "## Latitude vs. Wind Speed Plot"
   ]
  },
  {
   "cell_type": "code",
   "execution_count": null,
   "metadata": {},
   "outputs": [],
   "source": [
    "fig, axes = plt.subplots(1, 1, figsize=figsize)\n",
    "\n",
    "title = \"Lat Vs Wind_Speed\" + f\" ({weather_df['Date'].dt.date[0]})\"\n",
    "scatter_linregress(axes, weather_df['Lat'], weather_df['Wind_Speed'], title, regress=False)\n",
    "\n",
    "plt.savefig(os.path.join(output_data_folder, title))\n",
    "\n",
    "plt.show()"
   ]
  },
  {
   "cell_type": "code",
   "execution_count": null,
   "metadata": {},
   "outputs": [],
   "source": [
    "# split the datset into north and south hemispheres\n",
    "north_hemis_df = weather_df.drop(weather_df[weather_df['Lat'] < 0].index)\n",
    "south_hemis_df = weather_df.drop(weather_df[weather_df['Lat'] >= 0].index)"
   ]
  },
  {
   "cell_type": "markdown",
   "metadata": {},
   "source": [
    "#### Hemispheres - Max Temp vs. Latitude Linear Regression"
   ]
  },
  {
   "cell_type": "code",
   "execution_count": null,
   "metadata": {},
   "outputs": [],
   "source": [
    "fig, axes = plt.subplots(nrows=1, ncols=2, figsize=figsize)\n",
    "\n",
    "title = \"Hemispheres Lat Vs Max_Temp\" + f\" ({weather_df['Date'].dt.date[0]})\"\n",
    "\n",
    "# Southern Hemisphere\n",
    "scatter_linregress(axes[0], south_hemis_df['Lat'], south_hemis_df['Max_Temp'], \"Southern Hemisphere\")\n",
    "\n",
    "# Northern Hemisphere plot\n",
    "scatter_linregress(axes[1], north_hemis_df['Lat'], north_hemis_df['Max_Temp'], \"Northern Hemisphere\")\n",
    "\n",
    "plt.savefig(os.path.join(output_data_folder, title))\n",
    "\n",
    "plt.show()"
   ]
  },
  {
   "cell_type": "markdown",
   "metadata": {},
   "source": [
    "### Observations\n",
    "Clearly the temperature increases as you move toward the equator, and decreases as you move toward the poles.\n",
    "If the data points were more evenly distributed, the rsquared value might be even higher."
   ]
  },
  {
   "cell_type": "markdown",
   "metadata": {},
   "source": [
    "####  Hemispheres - Humidity (%) vs. Latitude Linear Regression"
   ]
  },
  {
   "cell_type": "code",
   "execution_count": null,
   "metadata": {},
   "outputs": [],
   "source": [
    "fig, axes = plt.subplots(nrows=1, ncols=2, figsize=figsize)\n",
    "\n",
    "title = \"Hemispheres Lat Vs Humidity\" + f\" ({weather_df['Date'].dt.date[0]})\"\n",
    "\n",
    "# Southern Hemisphere\n",
    "scatter_linregress(axes[0], south_hemis_df['Lat'], south_hemis_df['Humidity'], \"Southern Hemisphere\")\n",
    "\n",
    "# Northern Hemisphere plot\n",
    "scatter_linregress(axes[1], north_hemis_df['Lat'], north_hemis_df['Humidity'], \"Northern Hemisphere\")\n",
    "\n",
    "plt.savefig(os.path.join(output_data_folder, title))\n",
    "\n",
    "plt.show()"
   ]
  },
  {
   "cell_type": "markdown",
   "metadata": {},
   "source": [
    "### Observation\n",
    "While there isn't much of a clear trend shown by the linear regression, the poles don't seem to have low humidity values. A better graph might look at only <-40 and >40 latitudes where the empty corners of the graph reside."
   ]
  },
  {
   "cell_type": "markdown",
   "metadata": {},
   "source": [
    "####  Hemispheres - Cloudiness (%) vs. Latitude Linear Regression"
   ]
  },
  {
   "cell_type": "code",
   "execution_count": null,
   "metadata": {},
   "outputs": [],
   "source": [
    "fig, axes = plt.subplots(nrows=1, ncols=2, figsize=figsize)\n",
    "\n",
    "title = \"Hemispheres Lat Vs Cloudiness\" + f\" ({weather_df['Date'].dt.date[0]})\"\n",
    "\n",
    "# Southern Hemisphere\n",
    "scatter_linregress(axes[0], south_hemis_df['Lat'], south_hemis_df['Cloudiness'], \"Southern Hemisphere\")\n",
    "\n",
    "# Northern Hemisphere plot\n",
    "scatter_linregress(axes[1], north_hemis_df['Lat'], north_hemis_df['Cloudiness'], \"Northern Hemisphere\")\n",
    "\n",
    "plt.savefig(os.path.join(output_data_folder, title))\n",
    "\n",
    "plt.show()"
   ]
  },
  {
   "cell_type": "markdown",
   "metadata": {},
   "source": [
    "### Observation\n",
    "There doesn't seem to be any correlation between latitude and cloudiness."
   ]
  },
  {
   "cell_type": "markdown",
   "metadata": {},
   "source": [
    "####  Hemispheres - Wind Speed (mph) vs. Latitude Linear Regression"
   ]
  },
  {
   "cell_type": "code",
   "execution_count": null,
   "metadata": {},
   "outputs": [],
   "source": [
    "fig, axes = plt.subplots(nrows=1, ncols=2, figsize=figsize)\n",
    "\n",
    "title = \"Hemispheres Lat Vs Wind_Speed\" + f\" ({weather_df['Date'].dt.date[0]})\"\n",
    "\n",
    "# Southern Hemisphere\n",
    "scatter_linregress(axes[0], south_hemis_df['Lat'], south_hemis_df['Wind_Speed'], \"Southern Hemisphere\")\n",
    "\n",
    "# Northern Hemisphere plot\n",
    "scatter_linregress(axes[1], north_hemis_df['Lat'], north_hemis_df['Wind_Speed'], \"Northern Hemisphere\")\n",
    "\n",
    "plt.savefig(os.path.join(output_data_folder, title))\n",
    "\n",
    "plt.show()"
   ]
  },
  {
   "cell_type": "markdown",
   "metadata": {},
   "source": [
    "### Observation\n",
    "There's a potential trend of higher wind speeds moving from the south pole to the north pole. This trend might be driven a by few high outliers, further analysis is needed to confirm."
   ]
  },
  {
   "cell_type": "code",
   "execution_count": null,
   "metadata": {},
   "outputs": [],
   "source": []
  }
 ],
 "metadata": {
  "anaconda-cloud": {},
  "kernel_info": {
   "name": "python3"
  },
  "kernelspec": {
   "display_name": "Python 3",
   "language": "python",
   "name": "python3"
  },
  "language_info": {
   "codemirror_mode": {
    "name": "ipython",
    "version": 3
   },
   "file_extension": ".py",
   "mimetype": "text/x-python",
   "name": "python",
   "nbconvert_exporter": "python",
   "pygments_lexer": "ipython3",
   "version": "3.6.10"
  },
  "latex_envs": {
   "LaTeX_envs_menu_present": true,
   "autoclose": false,
   "autocomplete": true,
   "bibliofile": "biblio.bib",
   "cite_by": "apalike",
   "current_citInitial": 1,
   "eqLabelWithNumbers": true,
   "eqNumInitial": 1,
   "hotkeys": {
    "equation": "Ctrl-E",
    "itemize": "Ctrl-I"
   },
   "labels_anchors": false,
   "latex_user_defs": false,
   "report_style_numbering": false,
   "user_envs_cfg": false
  },
  "nteract": {
   "version": "0.12.3"
  }
 },
 "nbformat": 4,
 "nbformat_minor": 2
}
